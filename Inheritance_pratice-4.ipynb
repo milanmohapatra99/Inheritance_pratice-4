{
 "cells": [
  {
   "cell_type": "markdown",
   "id": "e81d0b10",
   "metadata": {},
   "source": [
    "Write a class complex to represent complex numbers,along with overloaded operators + and * which adds and multiplies them."
   ]
  },
  {
   "cell_type": "code",
   "execution_count": 6,
   "id": "f392f6ad",
   "metadata": {},
   "outputs": [
    {
     "name": "stdout",
     "output_type": "stream",
     "text": [
      "-12 + 37i\n"
     ]
    }
   ],
   "source": [
    "#(a+bi)(c+di) = (ac-bd) + (ad+bc)i\n",
    "class Complex:\n",
    "    def __init__(self, r, i):\n",
    "        self.real = r\n",
    "        self.imaginary = i\n",
    "    def __add__(self, c):\n",
    "        return Complex(self.real + c.real,self.imaginary + c.imaginary)\n",
    "    def __mul__(self, c):\n",
    "        mulReal = self.real * c.real - self.imaginary * c.imaginary\n",
    "        mulImg = self.real * c.imaginary + self.imaginary * c.real\n",
    "        return Complex(mulReal,mulImg)\n",
    "        \n",
    "    def __str__(self):\n",
    "        return f\"{self.real} + {self.imaginary}i\"\n",
    "        \n",
    "c1 = Complex(1,4) \n",
    "c2 = Complex(8,5)\n",
    "print(c1 * c2)\n",
    "        "
   ]
  },
  {
   "cell_type": "code",
   "execution_count": 4,
   "id": "61ea095e",
   "metadata": {},
   "outputs": [
    {
     "name": "stdout",
     "output_type": "stream",
     "text": [
      "9 + 9i\n"
     ]
    }
   ],
   "source": [
    "#(a+bi)(c+di) = (ac-bd) + (ad+bc)i\n",
    "class Complex:\n",
    "    def __init__(self, r, i):\n",
    "        self.real = r\n",
    "        self.imaginary = i\n",
    "    def __add__(self, c):\n",
    "        return Complex(self.real + c.real,self.imaginary + c.imaginary)\n",
    "            \n",
    "    def __str__(self):\n",
    "        return f\"{self.real} + {self.imaginary}i\"\n",
    "        \n",
    "c1 = Complex(1,4) \n",
    "c2 = Complex(8,5)\n",
    "print(c1 + c2)\n",
    "        "
   ]
  },
  {
   "cell_type": "code",
   "execution_count": 7,
   "id": "acf267eb",
   "metadata": {},
   "outputs": [
    {
     "name": "stdout",
     "output_type": "stream",
     "text": [
      "-11 + 23i\n"
     ]
    }
   ],
   "source": [
    "#(a+bi)(c+di) = (ac-bd) + (ad+bc)i\n",
    "class Complex:\n",
    "    def __init__(self, r, i):\n",
    "        self.real = r\n",
    "        self.imaginary = i\n",
    "    def __add__(self, c):\n",
    "        return Complex(self.real + c.real,self.imaginary + c.imaginary)\n",
    "    def __mul__(self, c):\n",
    "        mulReal = self.real * c.real - self.imaginary * c.imaginary\n",
    "        mulImg = self.real * c.imaginary + self.imaginary * c.real\n",
    "        return Complex(mulReal,mulImg)\n",
    "        \n",
    "    def __str__(self):\n",
    "        return f\"{self.real} + {self.imaginary}i\"\n",
    "        \n",
    "c1 = Complex(3,2) \n",
    "c2 = Complex(1,7)\n",
    "print(c1 * c2)\n",
    "        "
   ]
  },
  {
   "cell_type": "code",
   "execution_count": 12,
   "id": "19c0f0c7",
   "metadata": {},
   "outputs": [
    {
     "name": "stdout",
     "output_type": "stream",
     "text": [
      "332 - 41i\n",
      "183 - 1361i\n"
     ]
    }
   ],
   "source": [
    "#(a+bi)(c+di) = (ac-bd) + (ad+bc)i\n",
    "class Complex:\n",
    "    def __init__(self, r, i):\n",
    "        self.real = r\n",
    "        self.imaginary = i\n",
    "    def __add__(self, c):\n",
    "        return Complex(self.real + c.real,self.imaginary + c.imaginary)\n",
    "    def __mul__(self, c):\n",
    "        mulReal = self.real * c.real - self.imaginary * c.imaginary\n",
    "        mulImg = self.real * c.imaginary + self.imaginary * c.real\n",
    "        return Complex(mulReal,mulImg)\n",
    "        \n",
    "    def __str__(self):\n",
    "        if self.imaginary<0:\n",
    "            return f\"{self.real} - {-self.imaginary}i\"\n",
    "            \n",
    "        else:    \n",
    "            return f\"{self.real} + {self.imaginary}i\"\n",
    "        \n",
    "c1 = Complex(1,-4) \n",
    "c2 = Complex(331,-37)\n",
    "print(c1 + c2)\n",
    "print(c1 * c2)\n",
    "        "
   ]
  },
  {
   "cell_type": "code",
   "execution_count": null,
   "id": "250f2304",
   "metadata": {},
   "outputs": [],
   "source": []
  }
 ],
 "metadata": {
  "kernelspec": {
   "display_name": "Python 3 (ipykernel)",
   "language": "python",
   "name": "python3"
  },
  "language_info": {
   "codemirror_mode": {
    "name": "ipython",
    "version": 3
   },
   "file_extension": ".py",
   "mimetype": "text/x-python",
   "name": "python",
   "nbconvert_exporter": "python",
   "pygments_lexer": "ipython3",
   "version": "3.9.7"
  }
 },
 "nbformat": 4,
 "nbformat_minor": 5
}
